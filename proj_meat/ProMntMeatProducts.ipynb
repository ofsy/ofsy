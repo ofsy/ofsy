{
  "cells": [
    {
      "cell_type": "code",
      "execution_count": null,
      "metadata": {
        "id": "Nv6g81TjVS0b"
      },
      "outputs": [],
      "source": [
        "import os\n",
        "import pandas as pd\n",
        "import numpy as np"
      ]
    },
    {
      "cell_type": "code",
      "execution_count": null,
      "metadata": {
        "id": "WjjT97SiV_iP"
      },
      "outputs": [],
      "source": [
        "path = os.getcwd()"
      ]
    },
    {
      "cell_type": "code",
      "execution_count": null,
      "metadata": {
        "colab": {
          "base_uri": "https://localhost:8080/"
        },
        "id": "__I8YVcL48Py",
        "outputId": "653d5b6e-9636-41cd-c558-4b80ab325ab7"
      },
      "outputs": [],
      "source": [
        "#from google.colab import drive\n",
        "#drive.mount('/content/drive')"
      ]
    },
    {
      "cell_type": "code",
      "execution_count": null,
      "metadata": {
        "id": "xp73OAvNzfZf"
      },
      "outputs": [],
      "source": [
        "#os.chdir(path)"
      ]
    },
    {
      "cell_type": "code",
      "execution_count": null,
      "metadata": {
        "colab": {
          "base_uri": "https://localhost:8080/",
          "height": 174
        },
        "id": "ISuAWi53VicC",
        "outputId": "9101099f-d59b-4847-8c53-a2c2b621f987"
      },
      "outputs": [],
      "source": [
        "#os.listdir('/content/drive/MyDrive/df')"
      ]
    },
    {
      "cell_type": "code",
      "execution_count": null,
      "metadata": {
        "colab": {
          "base_uri": "https://localhost:8080/",
          "height": 439
        },
        "id": "g-uYwuZBWRoW",
        "outputId": "4bd41337-b101-43df-9795-27f411d8e255"
      },
      "outputs": [],
      "source": [
        "df = pd.read_csv('{}/mktc.csv'.format(path),sep = \"\\t\")\n",
        "df"
      ]
    },
    {
      "cell_type": "code",
      "execution_count": null,
      "metadata": {
        "colab": {
          "base_uri": "https://localhost:8080/",
          "height": 449
        },
        "id": "BXFjaRWZXO-r",
        "outputId": "1bad30ab-c5c0-4b17-d31f-fc41bea4d4d1"
      },
      "outputs": [],
      "source": [
        "import numpy as np\n",
        "import matplotlib.pyplot as plt\n",
        "\n",
        "np.random.seed(0)\n",
        "x = np.random.rand(100, 1)\n",
        "y = 3*x + (2 + np.random.rand(100, 1))\n",
        "\n",
        "plt.scatter(x, y , s=10)\n",
        "plt.xlabel('x')\n",
        "plt.ylabel('y')\n",
        "plt.show()"
      ]
    },
    {
      "cell_type": "code",
      "execution_count": null,
      "metadata": {
        "colab": {
          "base_uri": "https://localhost:8080/"
        },
        "id": "RRtH-M4-Y6zm",
        "outputId": "3d32ee63-4c2b-4c3e-f987-811936641be0"
      },
      "outputs": [],
      "source": [
        "df.info()"
      ]
    },
    {
      "cell_type": "code",
      "execution_count": null,
      "metadata": {
        "colab": {
          "base_uri": "https://localhost:8080/",
          "height": 270
        },
        "id": "c4_y067dZFYU",
        "outputId": "11ab0f3e-7bb3-4054-a776-dc2d3abe0cc6"
      },
      "outputs": [],
      "source": [
        "features = df.columns[:-1].tolist()\n",
        "print(df.shape)\n",
        "df.head()"
      ]
    },
    {
      "cell_type": "code",
      "execution_count": null,
      "metadata": {
        "colab": {
          "base_uri": "https://localhost:8080/",
          "height": 346
        },
        "id": "0tqG9r8BZiBb",
        "outputId": "43790b99-88fa-42a6-9d1a-01cf54b42325"
      },
      "outputs": [],
      "source": [
        "df.describe()"
      ]
    },
    {
      "cell_type": "code",
      "execution_count": null,
      "metadata": {
        "colab": {
          "base_uri": "https://localhost:8080/",
          "height": 270
        },
        "id": "Tls5kXZVZvH3",
        "outputId": "59ae2cc1-7466-40de-d829-0e3639cd7832"
      },
      "outputs": [],
      "source": [
        "data = pd.read_csv('{}/mktc.csv'.format(path),sep = \"\\t\")\n",
        "print(\"Number of datapoints:\", len(data))\n",
        "data.head()\n"
      ]
    },
    {
      "cell_type": "code",
      "execution_count": null,
      "metadata": {
        "colab": {
          "base_uri": "https://localhost:8080/"
        },
        "id": "qmApT_GLcWdO",
        "outputId": "d364b1e9-7423-480d-f421-9f906d0cffcd"
      },
      "outputs": [],
      "source": [
        "data.info()"
      ]
    },
    {
      "cell_type": "code",
      "execution_count": null,
      "metadata": {
        "colab": {
          "base_uri": "https://localhost:8080/"
        },
        "id": "32Qi3vg4cqmN",
        "outputId": "3c96f787-66f1-42b7-9a1b-fabae1d7f465"
      },
      "outputs": [],
      "source": [
        "data = data.dropna()\n",
        "print(\"The total number of data-points after removing the rows with missing values are:\", len(data))"
      ]
    },
    {
      "cell_type": "code",
      "execution_count": null,
      "metadata": {
        "colab": {
          "base_uri": "https://localhost:8080/"
        },
        "id": "GA_jYi24c0Vt",
        "outputId": "c1befe78-4cd5-472e-9afa-e7ff36a34bf1"
      },
      "outputs": [],
      "source": [
        "data[\"Dt_Customer\"] = pd.to_datetime(data[\"Dt_Customer\"], format=\"%d-%m-%Y\")\n",
        "dates = []\n",
        "for i in data[\"Dt_Customer\"]:\n",
        "    i = i.date()\n",
        "    dates.append(i)\n",
        "\n",
        "print(\"The newest customer's enrolment date in the records:\",max(dates))\n",
        "print(\"The oldest customer's enrolment date in the records:\",min(dates))"
      ]
    },
    {
      "cell_type": "code",
      "execution_count": null,
      "metadata": {
        "id": "I9dYn57cc8kB"
      },
      "outputs": [],
      "source": [
        "days = []\n",
        "d1 = max(dates) # taking it to be the newest customer\n",
        "for i in dates:\n",
        "    delta = d1 - i\n",
        "    days.append(delta)\n",
        "data[\"Customer_For\"] = days\n",
        "data[\"Customer_For\"] = pd.to_numeric(data[\"Customer_For\"], errors=\"coerce\")"
      ]
    },
    {
      "cell_type": "code",
      "execution_count": null,
      "metadata": {
        "colab": {
          "base_uri": "https://localhost:8080/"
        },
        "id": "c3QW9qTLdMSq",
        "outputId": "853e0908-51c4-4dde-9e76-322607dc9d7b"
      },
      "outputs": [],
      "source": [
        "print(\"Total categories in the feature Marital_Status:\\n\", data[\"Marital_Status\"].value_counts(), \"\\n\")\n",
        "print(\"Total categories in the feature Income:\\n\", data[\"Income\"].value_counts())"
      ]
    },
    {
      "cell_type": "code",
      "execution_count": null,
      "metadata": {
        "id": "O0QZ6e_Jd90Q"
      },
      "outputs": [],
      "source": [
        "#Age of customer today\n",
        "data[\"Age\"] = 2021-data[\"Year_Birth\"]\n",
        "\n",
        "#Total spendings on various items\n",
        "data[\"Spent\"] =  data[\"MntMeatProducts\"]\n",
        "\n",
        "#Deriving living situation by marital status\"Alone\"\n",
        "data[\"Living_With\"]=data[\"Marital_Status\"].replace({\"Married\":\"Partner\", \"Together\":\"Partner\",  \"Absurd\":\"Alone\",\n",
        "                                                    \"Widow\":\"Alone\", \"YOLO\":\"Alone\", \"Divorced\":\"Alone\", \"Single\":\"Alone\",})\n",
        "\n",
        "#Feature indicating total children living in the household\n",
        "data[\"Children\"]=data[\"Kidhome\"]+data[\"Teenhome\"]\n",
        "\n",
        "#Feature for total members in the householde\n",
        "data[\"Family_Size\"] = data[\"Living_With\"].replace({\"Alone\": 1, \"Partner\":2})+ data[\"Children\"]\n",
        "\n",
        "#Feature pertaining parenthood\n",
        "data[\"Is_Parent\"] = np.where(data.Children> 0, 1, 0)\n",
        "\n",
        "#Segmenting education levels in three groups\n",
        "data[\"Education\"]=data[\"Education\"].replace({\"Basic\":\"Undergraduate\",\"2n Cycle\":\"Undergraduate\",\n",
        "                                             \"Graduation\":\"Graduate\", \"Master\":\"Postgraduate\", \"PhD\":\"Postgraduate\"})\n",
        "\n",
        "#For clarity\n",
        "data=data.rename(columns={\"MntWines\": \"Wines\",\"MntFruits\":\"Fruits\",\"MntMeatProducts\":\"Meat\",\"MntFishProducts\":\n",
        "                          \"Fish\",\"MntSweetProducts\":\"Sweets\",\"MntGoldProds\":\"Gold\"})\n",
        "\n",
        "#Dropping some of the redundant features\n",
        "to_drop = [\"Marital_Status\", \"Dt_Customer\", \"Z_CostContact\", \"Z_Revenue\", \"Year_Birth\", \"ID\"]\n",
        "data = data.drop(to_drop, axis=1)"
      ]
    },
    {
      "cell_type": "code",
      "execution_count": null,
      "metadata": {
        "colab": {
          "base_uri": "https://localhost:8080/",
          "height": 346
        },
        "id": "a7YXXFwUfMBb",
        "outputId": "b9708410-3641-419a-f09d-a25170f7c420"
      },
      "outputs": [],
      "source": [
        "data.describe()"
      ]
    },
    {
      "cell_type": "code",
      "execution_count": null,
      "metadata": {
        "colab": {
          "base_uri": "https://localhost:8080/"
        },
        "id": "nt4f4wm5wL8q",
        "outputId": "ad14a4ed-ec47-42a7-e0f6-8f9f6f83ea0b"
      },
      "outputs": [],
      "source": [
        "#Get list of categorical variables\n",
        "s = (data.dtypes == 'object')\n",
        "object_cols = list(s[s].index)\n",
        "\n",
        "print(\"Categorical variables in the dataset:\", object_cols)"
      ]
    },
    {
      "cell_type": "code",
      "execution_count": null,
      "metadata": {
        "id": "Yzh-qbSiWjWM"
      },
      "outputs": [],
      "source": [
        "import os\n",
        "import numpy as np\n",
        "import pandas as pd\n",
        "import seaborn as sns\n",
        "from time import time\n",
        "import plotly.express as px\n",
        "from matplotlib import colors\n",
        "import matplotlib.pyplot as plt\n",
        "from collections import Counter"
      ]
    },
    {
      "cell_type": "code",
      "execution_count": null,
      "metadata": {
        "colab": {
          "base_uri": "https://localhost:8080/",
          "height": 991
        },
        "id": "PiZcy7MQc771",
        "outputId": "f5c5f825-a2e0-4ca2-8473-f57405ae1165"
      },
      "outputs": [],
      "source": [
        "#To plot some selected features\n",
        "#Setting up colors prefrences\n",
        "sns.set(rc={\"axes.facecolor\":\"#FFF9ED\",\"figure.facecolor\":\"#FFF9ED\"})\n",
        "pallet = [\"#682F2F\", \"#9E726F\", \"#D6B2B1\", \"#B9C0C9\", \"#9F8A78\", \"#F3AB60\"]\n",
        "cmap = colors.ListedColormap([\"#682F2F\", \"#9E726F\", \"#D6B2B1\", \"#B9C0C9\", \"#9F8A78\", \"#F3AB60\"])\n",
        "#Plotting following features\n",
        "To_Plot = [ \"Income\", \"Recency\", \"Customer_For\", \"Age\", \"Spent\", \"Is_Parent\"]\n",
        "print(\"Reletive Plot Of Some Selected Features: A Data Subset\")\n",
        "plt.figure()\n",
        "sns.pairplot(data[To_Plot], hue= \"Is_Parent\",palette= ([\"#682F2F\",\"#F3AB60\"]))\n",
        "#Taking hue\n",
        "plt.show()"
      ]
    },
    {
      "cell_type": "code",
      "execution_count": null,
      "metadata": {
        "colab": {
          "base_uri": "https://localhost:8080/",
          "height": 1000
        },
        "id": "i0GuVjt6fIDI",
        "outputId": "1e07ba77-053b-476a-ae4c-dd75fd43eb98"
      },
      "outputs": [],
      "source": [
        "# Select only numeric columns\n",
        "numeric_data = data.select_dtypes(include=[np.number])\n",
        "# Calculate the correlation matrix for numeric columns\n",
        "corrmat = numeric_data.corr()\n",
        "plt.figure(figsize=(20,20))\n",
        "sns.heatmap(corrmat,annot=True, cmap=cmap, center=0)"
      ]
    },
    {
      "cell_type": "code",
      "execution_count": null,
      "metadata": {},
      "outputs": [],
      "source": []
    }
  ],
  "metadata": {
    "colab": {
      "provenance": []
    },
    "kernelspec": {
      "display_name": "Python 3",
      "name": "python3"
    },
    "language_info": {
      "codemirror_mode": {
        "name": "ipython",
        "version": 3
      },
      "file_extension": ".py",
      "mimetype": "text/x-python",
      "name": "python",
      "nbconvert_exporter": "python",
      "pygments_lexer": "ipython3",
      "version": "3.11.5"
    }
  },
  "nbformat": 4,
  "nbformat_minor": 0
}
