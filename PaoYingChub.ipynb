{
 "cells": [
  {
   "cell_type": "markdown",
   "metadata": {},
   "source": [
    "#เกมเป่ายิงฉุบ แบบ เล่นไปเรื่อยๆ กับ เล่นหาผู้ชนะใน 5 ตา"
   ]
  },
  {
   "cell_type": "code",
   "execution_count": null,
   "metadata": {},
   "outputs": [
    {
     "name": "stdout",
     "output_type": "stream",
     "text": [
      "You chose: 0\n",
      "Computer chose: 2\n",
      "You win!\n"
     ]
    }
   ],
   "source": [
    "#เป่าไปเรื่อยๆ\n",
    "import random\n",
    "\n",
    "def get_user_choice():\n",
    "    while True:\n",
    "        user_choice = input(\"Choose 0 for Rock, 5 for Paper, or 2 for Scissors: \").strip()\n",
    "        if user_choice in [\"0\", \"5\", \"2\"]:\n",
    "            return int(user_choice)\n",
    "        else:\n",
    "            print(\"Invalid choice. Please choose 0 for Rock, 5 for Paper, or 2 for Scissors.\")\n",
    "\n",
    "def get_computer_choice():\n",
    "    return random.choice([0, 5, 2])\n",
    "\n",
    "def determine_winner(user_choice, computer_choice):\n",
    "    if user_choice == computer_choice:\n",
    "        return \"It's a tie!\"\n",
    "    elif (\n",
    "        (user_choice == 0 and computer_choice == 2)\n",
    "        or (user_choice == 5 and computer_choice == 0)\n",
    "        or (user_choice == 2 and computer_choice == 5)\n",
    "    ):\n",
    "        return \"You win!\"\n",
    "    else:\n",
    "        return \"Computer wins!\"\n",
    "\n",
    "def play_game():\n",
    "    user_choice = get_user_choice()\n",
    "    computer_choice = get_computer_choice()\n",
    "\n",
    "    print(f\"You chose: {user_choice}\")\n",
    "    print(f\"Computer chose: {computer_choice}\")\n",
    "\n",
    "    result = determine_winner(user_choice, computer_choice)\n",
    "    print(result)\n",
    "\n",
    "play_game()\n"
   ]
  },
  {
   "cell_type": "code",
   "execution_count": 2,
   "metadata": {},
   "outputs": [
    {
     "name": "stdout",
     "output_type": "stream",
     "text": [
      "Round 1:\n",
      "Invalid choice. Please choose 0 for Rock, 5 for Paper, or 2 for Scissors.\n",
      "Invalid choice. Please choose 0 for Rock, 5 for Paper, or 2 for Scissors.\n",
      "You chose: Paper\n",
      "Computer chose: Rock\n",
      "You win!\n",
      "Round 2:\n",
      "You chose: Rock\n",
      "Computer chose: Scissors\n",
      "You win!\n",
      "Round 3:\n",
      "You chose: Scissors\n",
      "Computer chose: Rock\n",
      "Computer wins!\n",
      "Round 4:\n",
      "You chose: Paper\n",
      "Computer chose: Scissors\n",
      "Computer wins!\n",
      "Round 5:\n",
      "You chose: Scissors\n",
      "Computer chose: Paper\n",
      "You win!\n",
      "\n",
      "Game Over!\n",
      "You win the game!\n"
     ]
    }
   ],
   "source": [
    "#เล่น 5 ตาเพื่อหาผู้ชนะ\n",
    "import random\n",
    "\n",
    "# Create a dictionary to map numeric values to words\n",
    "choice_mapping = {0: \"Rock\", 5: \"Paper\", 2: \"Scissors\"}\n",
    "\n",
    "def get_user_choice():\n",
    "    while True:\n",
    "        user_choice = input(\"Choose 0 for Rock, 5 for Paper, or 2 for Scissors: \").strip()\n",
    "        if user_choice in [\"0\", \"5\", \"2\"]:\n",
    "            return int(user_choice)\n",
    "        else:\n",
    "            print(\"Invalid choice. Please choose 0 for Rock, 5 for Paper, or 2 for Scissors.\")\n",
    "\n",
    "def get_computer_choice():\n",
    "    return random.choice([0, 5, 2])\n",
    "\n",
    "def determine_winner(user_choice, computer_choice):\n",
    "    if user_choice == computer_choice:\n",
    "        return \"It's a tie!\"\n",
    "    elif (\n",
    "        (user_choice == 0 and computer_choice == 2)\n",
    "        or (user_choice == 5 and computer_choice == 0)\n",
    "        or (user_choice == 2 and computer_choice == 5)\n",
    "    ):\n",
    "        return \"You win!\"\n",
    "    else:\n",
    "        return \"Computer wins!\"\n",
    "#Set to find the winner! in Best of 5 round\n",
    "def play_game():\n",
    "    user_score = 0\n",
    "    computer_score = 0\n",
    "\n",
    "    for round in range(5):\n",
    "            print(f\"Round {round + 1}:\")\n",
    "            user_choice = get_user_choice()\n",
    "            computer_choice = get_computer_choice()\n",
    "\n",
    "            print(f\"You chose: {choice_mapping[user_choice]}\")\n",
    "            print(f\"Computer chose: {choice_mapping[computer_choice]}\")\n",
    "\n",
    "            result = determine_winner(user_choice, computer_choice)\n",
    "            print(result)\n",
    "\n",
    "            if result == \"You win!\":\n",
    "                user_score += 1\n",
    "            elif result == \"Computer wins!\":\n",
    "                computer_score += 1\n",
    "\n",
    "    print(\"\\nGame Over!\")\n",
    "    if user_score > computer_score:\n",
    "        print(\"You win the game!\")\n",
    "    elif computer_score > user_score:\n",
    "        print(\"Computer wins the game!\")\n",
    "    else:\n",
    "        print(\"It's a tie!\")\n",
    "\n",
    "play_game()\n",
    "\n"
   ]
  },
  {
   "cell_type": "code",
   "execution_count": 3,
   "metadata": {},
   "outputs": [
    {
     "name": "stdout",
     "output_type": "stream",
     "text": [
      "Round 1:\n",
      "You chose: Paper\n",
      "Computer chose: Rock\n",
      "You win!\n",
      "Round 2:\n"
     ]
    },
    {
     "ename": "KeyboardInterrupt",
     "evalue": "Interrupted by user",
     "output_type": "error",
     "traceback": [
      "\u001b[0;31m---------------------------------------------------------------------------\u001b[0m",
      "\u001b[0;31mKeyboardInterrupt\u001b[0m                         Traceback (most recent call last)",
      "Cell \u001b[0;32mIn[3], line 1\u001b[0m\n\u001b[0;32m----> 1\u001b[0m play_game()\n",
      "Cell \u001b[0;32mIn[2], line 35\u001b[0m, in \u001b[0;36mplay_game\u001b[0;34m()\u001b[0m\n\u001b[1;32m     33\u001b[0m \u001b[39mfor\u001b[39;00m \u001b[39mround\u001b[39m \u001b[39min\u001b[39;00m \u001b[39mrange\u001b[39m(\u001b[39m5\u001b[39m):\n\u001b[1;32m     34\u001b[0m         \u001b[39mprint\u001b[39m(\u001b[39mf\u001b[39m\u001b[39m\"\u001b[39m\u001b[39mRound \u001b[39m\u001b[39m{\u001b[39;00m\u001b[39mround\u001b[39m\u001b[39m \u001b[39m\u001b[39m+\u001b[39m\u001b[39m \u001b[39m\u001b[39m1\u001b[39m\u001b[39m}\u001b[39;00m\u001b[39m:\u001b[39m\u001b[39m\"\u001b[39m)\n\u001b[0;32m---> 35\u001b[0m         user_choice \u001b[39m=\u001b[39m get_user_choice()\n\u001b[1;32m     36\u001b[0m         computer_choice \u001b[39m=\u001b[39m get_computer_choice()\n\u001b[1;32m     38\u001b[0m         \u001b[39mprint\u001b[39m(\u001b[39mf\u001b[39m\u001b[39m\"\u001b[39m\u001b[39mYou chose: \u001b[39m\u001b[39m{\u001b[39;00mchoice_mapping[user_choice]\u001b[39m}\u001b[39;00m\u001b[39m\"\u001b[39m)\n",
      "Cell \u001b[0;32mIn[2], line 8\u001b[0m, in \u001b[0;36mget_user_choice\u001b[0;34m()\u001b[0m\n\u001b[1;32m      6\u001b[0m \u001b[39mdef\u001b[39;00m \u001b[39mget_user_choice\u001b[39m():\n\u001b[1;32m      7\u001b[0m     \u001b[39mwhile\u001b[39;00m \u001b[39mTrue\u001b[39;00m:\n\u001b[0;32m----> 8\u001b[0m         user_choice \u001b[39m=\u001b[39m \u001b[39minput\u001b[39;49m(\u001b[39m\"\u001b[39;49m\u001b[39mChoose 0 for Rock, 5 for Paper, or 2 for Scissors: \u001b[39;49m\u001b[39m\"\u001b[39;49m)\u001b[39m.\u001b[39mstrip()\n\u001b[1;32m      9\u001b[0m         \u001b[39mif\u001b[39;00m user_choice \u001b[39min\u001b[39;00m [\u001b[39m\"\u001b[39m\u001b[39m0\u001b[39m\u001b[39m\"\u001b[39m, \u001b[39m\"\u001b[39m\u001b[39m5\u001b[39m\u001b[39m\"\u001b[39m, \u001b[39m\"\u001b[39m\u001b[39m2\u001b[39m\u001b[39m\"\u001b[39m]:\n\u001b[1;32m     10\u001b[0m             \u001b[39mreturn\u001b[39;00m \u001b[39mint\u001b[39m(user_choice)\n",
      "File \u001b[0;32m~/Library/Python/3.11/lib/python/site-packages/ipykernel/kernelbase.py:1202\u001b[0m, in \u001b[0;36mKernel.raw_input\u001b[0;34m(self, prompt)\u001b[0m\n\u001b[1;32m   1200\u001b[0m     msg \u001b[39m=\u001b[39m \u001b[39m\"\u001b[39m\u001b[39mraw_input was called, but this frontend does not support input requests.\u001b[39m\u001b[39m\"\u001b[39m\n\u001b[1;32m   1201\u001b[0m     \u001b[39mraise\u001b[39;00m StdinNotImplementedError(msg)\n\u001b[0;32m-> 1202\u001b[0m \u001b[39mreturn\u001b[39;00m \u001b[39mself\u001b[39;49m\u001b[39m.\u001b[39;49m_input_request(\n\u001b[1;32m   1203\u001b[0m     \u001b[39mstr\u001b[39;49m(prompt),\n\u001b[1;32m   1204\u001b[0m     \u001b[39mself\u001b[39;49m\u001b[39m.\u001b[39;49m_parent_ident[\u001b[39m\"\u001b[39;49m\u001b[39mshell\u001b[39;49m\u001b[39m\"\u001b[39;49m],\n\u001b[1;32m   1205\u001b[0m     \u001b[39mself\u001b[39;49m\u001b[39m.\u001b[39;49mget_parent(\u001b[39m\"\u001b[39;49m\u001b[39mshell\u001b[39;49m\u001b[39m\"\u001b[39;49m),\n\u001b[1;32m   1206\u001b[0m     password\u001b[39m=\u001b[39;49m\u001b[39mFalse\u001b[39;49;00m,\n\u001b[1;32m   1207\u001b[0m )\n",
      "File \u001b[0;32m~/Library/Python/3.11/lib/python/site-packages/ipykernel/kernelbase.py:1245\u001b[0m, in \u001b[0;36mKernel._input_request\u001b[0;34m(self, prompt, ident, parent, password)\u001b[0m\n\u001b[1;32m   1242\u001b[0m \u001b[39mexcept\u001b[39;00m \u001b[39mKeyboardInterrupt\u001b[39;00m:\n\u001b[1;32m   1243\u001b[0m     \u001b[39m# re-raise KeyboardInterrupt, to truncate traceback\u001b[39;00m\n\u001b[1;32m   1244\u001b[0m     msg \u001b[39m=\u001b[39m \u001b[39m\"\u001b[39m\u001b[39mInterrupted by user\u001b[39m\u001b[39m\"\u001b[39m\n\u001b[0;32m-> 1245\u001b[0m     \u001b[39mraise\u001b[39;00m \u001b[39mKeyboardInterrupt\u001b[39;00m(msg) \u001b[39mfrom\u001b[39;00m \u001b[39mNone\u001b[39;00m\n\u001b[1;32m   1246\u001b[0m \u001b[39mexcept\u001b[39;00m \u001b[39mException\u001b[39;00m:\n\u001b[1;32m   1247\u001b[0m     \u001b[39mself\u001b[39m\u001b[39m.\u001b[39mlog\u001b[39m.\u001b[39mwarning(\u001b[39m\"\u001b[39m\u001b[39mInvalid Message:\u001b[39m\u001b[39m\"\u001b[39m, exc_info\u001b[39m=\u001b[39m\u001b[39mTrue\u001b[39;00m)\n",
      "\u001b[0;31mKeyboardInterrupt\u001b[0m: Interrupted by user"
     ]
    }
   ],
   "source": [
    "play_game()"
   ]
  },
  {
   "cell_type": "code",
   "execution_count": null,
   "metadata": {},
   "outputs": [],
   "source": []
  }
 ],
 "metadata": {
  "kernelspec": {
   "display_name": "Python 3",
   "language": "python",
   "name": "python3"
  },
  "language_info": {
   "codemirror_mode": {
    "name": "ipython",
    "version": 3
   },
   "file_extension": ".py",
   "mimetype": "text/x-python",
   "name": "python",
   "nbconvert_exporter": "python",
   "pygments_lexer": "ipython3",
   "version": "3.11.5"
  },
  "orig_nbformat": 4
 },
 "nbformat": 4,
 "nbformat_minor": 2
}
