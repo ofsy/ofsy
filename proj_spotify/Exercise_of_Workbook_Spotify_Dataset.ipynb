{
  "cells": [
    {
      "cell_type": "code",
      "execution_count": null,
      "metadata": {
        "id": "U8SRkrCFCp_L"
      },
      "outputs": [],
      "source": [
        "#df.loc\n",
        "#genre = []\n",
        "#df[''].value_counts()\n",
        "#genre.append()\n",
        "#data.query()\n",
        "#data = data.rename(columns = {})\n",
        "#new.fillna()\n",
        "#pd.concat\n",
        "#df.iloc"
      ]
    },
    {
      "cell_type": "code",
      "execution_count": null,
      "metadata": {
        "colab": {
          "base_uri": "https://localhost:8080/"
        },
        "id": "x-cYitWsC7fv",
        "outputId": "920b92f3-c300-4cbb-9acd-86415acd3df7"
      },
      "outputs": [],
      "source": [
        "#from google.colab import drive\n",
        "#drive.mount('/content/drive')"
      ]
    },
    {
      "cell_type": "code",
      "execution_count": null,
      "metadata": {
        "id": "FpvQoSpwDxLL"
      },
      "outputs": [],
      "source": [
        "import pandas as pd\n",
        "import os\n",
        "path = os.getcwd()\n",
        "data = pd.read_csv(\"{}/spotify_dataset.csv\".format(path))"
      ]
    },
    {
      "cell_type": "code",
      "execution_count": null,
      "metadata": {
        "colab": {
          "base_uri": "https://localhost:8080/",
          "height": 734
        },
        "id": "n-j0uMW2EKvp",
        "outputId": "9b114417-bbdc-4535-f66e-25a637f8fabe"
      },
      "outputs": [],
      "source": [
        "data.head()"
      ]
    },
    {
      "cell_type": "code",
      "execution_count": null,
      "metadata": {
        "colab": {
          "base_uri": "https://localhost:8080/"
        },
        "id": "Xj1IB_qnEX-A",
        "outputId": "0ea3d028-6f59-4bda-dae8-d52e2ba500e4"
      },
      "outputs": [],
      "source": [
        "# Copy Imported data\n",
        "df = data.copy()\n",
        "\n",
        "# All the genres available in the data set are extracted\n",
        "genre = []\n",
        "new_genre = []\n",
        "\n",
        "# loop Dataframe index\n",
        "for j in df.index:\n",
        "    # Build temporary list with selected Genre\n",
        "    lst = df.loc[j,'Genre'][1:-1].split(', ')\n",
        "    # loop item in temporary list\n",
        "    for i in lst:\n",
        "        # collect in selected list (genre)\n",
        "        genre.append(i[1:-1])\n",
        "\n",
        "# build empty list\n",
        "new_genre = []\n",
        "# loop item in genre\n",
        "for i in genre:\n",
        "    # Unique genre by select one genre one time\n",
        "    if i not in new_genre:\n",
        "        # collect in selected list (new_genre)\n",
        "        new_genre.append(i)\n",
        "\n",
        "new_genre[:10]"
      ]
    },
    {
      "cell_type": "code",
      "execution_count": null,
      "metadata": {
        "id": "Xql3mkNYkQOn"
      },
      "outputs": [],
      "source": []
    },
    {
      "cell_type": "code",
      "execution_count": null,
      "metadata": {
        "id": "fr2h-yKHVQuf"
      },
      "outputs": [],
      "source": [
        "# Dummies are created for all genres\n",
        "\n",
        "# Create empty Pandas Dataframe\n",
        "new = pd.DataFrame()\n",
        "\n",
        "# loop Dataframe index\n",
        "for j in df.index:\n",
        "    # Build temporary list with selected Genre\n",
        "    lst = [i[1:-1] for i in df.iloc[j].Genre[1:-1].split(', ')]\n",
        "    # loop item in temporary list\n",
        "    for k in lst:\n",
        "        # collect in selected list (genre)\n",
        "        new.loc[j,k]=1\n",
        "\n",
        "# fill NaN (Null) values by 0\n",
        "new = new.fillna(0)\n",
        "\n",
        "# concatenate df and dummy dataframe\n",
        "df = pd.concat([df,new], axis=1)\n",
        "\n",
        "# concat1 = pd.DataFrame()\n",
        "# concat1.loc[0,\"concat\"] = 1\n",
        "# concat2 = pd.DataFrame()\n",
        "# concat2 .loc[0,\"concat\"] = 2\n",
        "\n",
        "# pd.concat([concat1,concat2], axis=0)"
      ]
    },
    {
      "cell_type": "code",
      "execution_count": null,
      "metadata": {
        "colab": {
          "base_uri": "https://localhost:8080/",
          "height": 763
        },
        "id": "nu2iWUn-WB39",
        "outputId": "a774de63-fe9d-4ba1-cf9e-5e2f46d38069"
      },
      "outputs": [],
      "source": [
        "# Pandas\n",
        "\n",
        "# Select only date by split \"--\"\n",
        "df['Week of Highest Charting'] = df['Week of Highest Charting'].apply(lambda x: x.split('--')[0])\n",
        "\n",
        "# Create copy column waiting for replace values\n",
        "df['Year_Week of Highest Charting'] = pd.to_datetime(df['Week of Highest Charting'])\n",
        "df['Month_Week of Highest Charting'] = pd.to_datetime(df['Week of Highest Charting'])\n",
        "\n",
        "# replace by select dt.month and year\n",
        "df['Year_Week of Highest Charting'] = df['Year_Week of Highest Charting'].dt.year\n",
        "df['Month_Week of Highest Charting'] = df['Month_Week of Highest Charting'].dt.month\n",
        "\n",
        "# drop datetime column\n",
        "df = df.drop('Week of Highest Charting', axis=1)\n",
        "\n",
        "# Release year is extracted from Release date\n",
        "df['Release Date'] = pd.to_datetime(df['Release Date'], errors='coerce')\n",
        "df['Release Year'] = df['Release Date'].dt.year\n",
        "\n",
        "# drop datetime column\n",
        "df = df.drop('Release Date', axis=1)\n",
        "\n",
        "# Comma delete\n",
        "df.Streams = pd.to_numeric(df.Streams.apply(lambda x: x.replace(',','')))\n",
        "# drop every NaN Values\n",
        "df.head()"
      ]
    },
    {
      "cell_type": "code",
      "execution_count": null,
      "metadata": {
        "colab": {
          "base_uri": "https://localhost:8080/",
          "height": 49
        },
        "id": "2gN_ENwuaOmT",
        "outputId": "6d48ac19-3034-41ae-fc5c-39206ee98dbd"
      },
      "outputs": [],
      "source": [
        "pd.DataFrame(df.isnull().sum(),columns = ['NULLVALUES']).query(\"NULLVALUES > 0\")"
      ]
    },
    {
      "cell_type": "code",
      "execution_count": null,
      "metadata": {
        "colab": {
          "base_uri": "https://localhost:8080/",
          "height": 763
        },
        "id": "TYMzGB3j8mI5",
        "outputId": "06a06a86-74f8-45b7-bb4b-8b74acbba083"
      },
      "outputs": [],
      "source": [
        "df = df.dropna()\n",
        "df.head()"
      ]
    },
    {
      "cell_type": "markdown",
      "metadata": {
        "id": "jCTEYaNmVOCz"
      },
      "source": [
        "EDA"
      ]
    },
    {
      "cell_type": "code",
      "execution_count": null,
      "metadata": {
        "colab": {
          "base_uri": "https://localhost:8080/",
          "height": 419
        },
        "id": "jaeFDxGzhbok",
        "outputId": "05e7cc59-6210-41a8-b148-b28671b3406e"
      },
      "outputs": [],
      "source": [
        "df['Popularity'].value_counts().to_frame()"
      ]
    },
    {
      "cell_type": "code",
      "execution_count": null,
      "metadata": {
        "colab": {
          "base_uri": "https://localhost:8080/"
        },
        "id": "nlY8OQ6xcLxa",
        "outputId": "d251cc10-5108-42f6-fced-34f58103bd70"
      },
      "outputs": [],
      "source": [
        "df[\"Popularity\"] = df[\"Popularity\"].astype(int)"
      ]
    },
    {
      "cell_type": "code",
      "execution_count": null,
      "metadata": {
        "colab": {
          "base_uri": "https://localhost:8080/",
          "height": 814
        },
        "id": "2mw-ocBDdEyt",
        "outputId": "20c019a0-1db4-4b33-b30b-9af3451c34f8"
      },
      "outputs": [],
      "source": [
        "df.query(\"Popularity > 85\").sample(5)"
      ]
    },
    {
      "cell_type": "code",
      "execution_count": null,
      "metadata": {
        "colab": {
          "base_uri": "https://localhost:8080/",
          "height": 142
        },
        "id": "FgGKl4OxbUEV",
        "outputId": "b59c4f74-c9f2-4a47-eaf3-a1dc034575fe"
      },
      "outputs": [],
      "source": [
        "df.loc[(df[\"Artist\"] == \"Olivia Rodrigo\")& (df[\"Popularity\"] > 0)].groupby('Artist').agg({\"Song ID\" : ['count'], \"Popularity\" : ['mean','median']})"
      ]
    },
    {
      "cell_type": "code",
      "execution_count": null,
      "metadata": {
        "colab": {
          "base_uri": "https://localhost:8080/",
          "height": 266
        },
        "id": "SDhQArqgbr08",
        "outputId": "3594fcd1-8e58-43aa-dc21-49b25e243ea8"
      },
      "outputs": [],
      "source": [
        "olivia = df.query(\"(Artist == 'Olivia Rodrigo') & (Popularity > 90)\")\n",
        "pd.crosstab(olivia['Song Name'],olivia['Chord'])"
      ]
    },
    {
      "cell_type": "code",
      "execution_count": null,
      "metadata": {
        "colab": {
          "base_uri": "https://localhost:8080/"
        },
        "id": "luDpqZYCcA0K",
        "outputId": "12ce7664-3302-430b-b257-41da60ad490e"
      },
      "outputs": [],
      "source": [
        "df.query(\"(Popularity > 90)\")['Artist'].value_counts()"
      ]
    },
    {
      "cell_type": "code",
      "execution_count": null,
      "metadata": {
        "id": "kyRVclh5fo97"
      },
      "outputs": [],
      "source": []
    },
    {
      "cell_type": "markdown",
      "metadata": {
        "id": "YZMRTAc1jTws"
      },
      "source": [
        "#HomeWork\n",
        "\n",
        "- How many songs got 1 rank charted\n",
        "- Top 10 Artist In 2021 Have Average popularity more than 85\n",
        "- How Many Song which have popularity more than 90 breakdown by Artist\n",
        "- How many Taylor swift song have popularity lower than 80"
      ]
    },
    {
      "cell_type": "code",
      "execution_count": null,
      "metadata": {
        "colab": {
          "base_uri": "https://localhost:8080/",
          "height": 510
        },
        "id": "tFeYrwtd5UNH",
        "outputId": "315ad274-6f6b-4b25-f246-effe846265a0"
      },
      "outputs": [],
      "source": [
        "#How many songs got 1 rank charted\n",
        "rank1 = df.loc[df['Highest Charting Position'] == 1, ['Index', 'Song Name']]\n",
        "print(rank1)"
      ]
    },
    {
      "cell_type": "code",
      "execution_count": null,
      "metadata": {},
      "outputs": [],
      "source": [
        "#Top 10 Artist In 2021 Have Average popularity more than 85\n",
        "\n",
        "# Filter songs released in 2021\n",
        "song2021 = df[df[\"Release Year\"] == 2021]\n",
        "\n",
        "# Group by \"Artist\" and calculate the mean popularity\n",
        "top10 = song2021.groupby(\"Artist\")[\"Popularity\"].mean().nlargest(10)\n",
        "print(top10)"
      ]
    },
    {
      "cell_type": "code",
      "execution_count": null,
      "metadata": {},
      "outputs": [],
      "source": [
        "#How Many Song which have popularity more than 90 breakdown by Artist\n",
        "pop90 = df.loc[df[\"Popularity\"] > 90]\n",
        "artist_song_counts = pop90.groupby('Artist')['Song Name'].count()\n",
        "print(artist_song_counts)"
      ]
    },
    {
      "cell_type": "code",
      "execution_count": null,
      "metadata": {},
      "outputs": [],
      "source": [
        " #How many Taylor swift song have popularity lower than 80\n",
        "Taylow80 = df.query(\"(Artist == 'Taylor Swift') & (Popularity < 80)\")[\"Song Name\"].count()\n",
        "print(Taylow80)"
      ]
    },
    {
      "cell_type": "code",
      "execution_count": null,
      "metadata": {},
      "outputs": [],
      "source": []
    }
  ],
  "metadata": {
    "colab": {
      "provenance": []
    },
    "kernelspec": {
      "display_name": "Python 3",
      "name": "python3"
    },
    "language_info": {
      "codemirror_mode": {
        "name": "ipython",
        "version": 3
      },
      "file_extension": ".py",
      "mimetype": "text/x-python",
      "name": "python",
      "nbconvert_exporter": "python",
      "pygments_lexer": "ipython3",
      "version": "3.11.5"
    }
  },
  "nbformat": 4,
  "nbformat_minor": 0
}
