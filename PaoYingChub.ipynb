{
 "cells": [
  {
   "cell_type": "code",
   "execution_count": 1,
   "metadata": {},
   "outputs": [
    {
     "name": "stdout",
     "output_type": "stream",
     "text": [
      "You chose: Rock\n",
      "Computer chose: Paper\n",
      "Computer wins!\n"
     ]
    }
   ],
   "source": [
    "import random\n",
    "\n",
    "def get_user_choice():\n",
    "    while True:\n",
    "        user_choice = input(\"Choose Rock, Paper, or Scissors: \").strip().capitalize()\n",
    "        if user_choice in [\"Rock\", \"Paper\", \"Scissors\"]:\n",
    "            return user_choice\n",
    "        else:\n",
    "            print(\"Invalid choice. Please choose Rock, Paper, or Scissors.\")\n",
    "\n",
    "def get_computer_choice():\n",
    "    return random.choice([\"Rock\", \"Paper\", \"Scissors\"])\n",
    "\n",
    "def determine_winner(user_choice, computer_choice):\n",
    "    if user_choice == computer_choice:\n",
    "        return \"It's a tie!\"\n",
    "    elif (\n",
    "        (user_choice == \"Rock\" and computer_choice == \"Scissors\")\n",
    "        or (user_choice == \"Paper\" and computer_choice == \"Rock\")\n",
    "        or (user_choice == \"Scissors\" and computer_choice == \"Paper\")\n",
    "    ):\n",
    "        return \"You win!\"\n",
    "    else:\n",
    "        return \"Computer wins!\"\n",
    "\n",
    "def play_game():\n",
    "    user_choice = get_user_choice()\n",
    "    computer_choice = get_computer_choice()\n",
    "\n",
    "    print(f\"You chose: {user_choice}\")\n",
    "    print(f\"Computer chose: {computer_choice}\")\n",
    "\n",
    "    result = determine_winner(user_choice, computer_choice)\n",
    "    print(result)\n",
    "\n",
    "play_game()"
   ]
  },
  {
   "cell_type": "code",
   "execution_count": 2,
   "metadata": {},
   "outputs": [
    {
     "name": "stdout",
     "output_type": "stream",
     "text": [
      "You chose: 5\n",
      "Computer chose: 0\n",
      "You win!\n"
     ]
    }
   ],
   "source": [
    "import random\n",
    "\n",
    "def get_user_choice():\n",
    "    while True:\n",
    "        user_choice = input(\"Choose 0 for Rock, 5 for Paper, or 2 for Scissors: \").strip()\n",
    "        if user_choice in [\"0\", \"5\", \"2\"]:\n",
    "            return int(user_choice)\n",
    "        else:\n",
    "            print(\"Invalid choice. Please choose 0 for Rock, 5 for Paper, or 2 for Scissors.\")\n",
    "\n",
    "def get_computer_choice():\n",
    "    return random.choice([0, 5, 2])\n",
    "\n",
    "def determine_winner(user_choice, computer_choice):\n",
    "    if user_choice == computer_choice:\n",
    "        return \"It's a tie!\"\n",
    "    elif (\n",
    "        (user_choice == 0 and computer_choice == 2)\n",
    "        or (user_choice == 5 and computer_choice == 0)\n",
    "        or (user_choice == 2 and computer_choice == 5)\n",
    "    ):\n",
    "        return \"You win!\"\n",
    "    else:\n",
    "        return \"Computer wins!\"\n",
    "\n",
    "def play_game():\n",
    "    user_choice = get_user_choice()\n",
    "    computer_choice = get_computer_choice()\n",
    "\n",
    "    print(f\"You chose: {user_choice}\")\n",
    "    print(f\"Computer chose: {computer_choice}\")\n",
    "\n",
    "    result = determine_winner(user_choice, computer_choice)\n",
    "    print(result)\n",
    "\n",
    "play_game()\n"
   ]
  },
  {
   "cell_type": "code",
   "execution_count": 12,
   "metadata": {},
   "outputs": [
    {
     "name": "stdout",
     "output_type": "stream",
     "text": [
      "Round 1:\n",
      "You chose: Rock\n",
      "Computer chose: Paper\n",
      "Computer wins!\n",
      "Round 2:\n",
      "You chose: Paper\n",
      "Computer chose: Scissors\n",
      "Computer wins!\n",
      "Round 3:\n",
      "You chose: Scissors\n",
      "Computer chose: Rock\n",
      "Computer wins!\n",
      "Round 4:\n",
      "You chose: Paper\n",
      "Computer chose: Paper\n",
      "It's a tie!\n",
      "Round 5:\n",
      "You chose: Scissors\n",
      "Computer chose: Rock\n",
      "Computer wins!\n",
      "\n",
      "Game Over!\n",
      "Computer wins the game!\n"
     ]
    }
   ],
   "source": [
    "import random\n",
    "\n",
    "# Create a dictionary to map numeric values to words\n",
    "choice_mapping = {0: \"Rock\", 5: \"Paper\", 2: \"Scissors\"}\n",
    "\n",
    "def get_user_choice():\n",
    "    while True:\n",
    "        user_choice = input(\"Choose 0 for Rock, 5 for Paper, or 2 for Scissors: \").strip()\n",
    "        if user_choice in [\"0\", \"5\", \"2\"]:\n",
    "            return int(user_choice)\n",
    "        else:\n",
    "            print(\"Invalid choice. Please choose 0 for Rock, 5 for Paper, or 2 for Scissors.\")\n",
    "\n",
    "def get_computer_choice():\n",
    "    return random.choice([0, 5, 2])\n",
    "\n",
    "def determine_winner(user_choice, computer_choice):\n",
    "    if user_choice == computer_choice:\n",
    "        return \"It's a tie!\"\n",
    "    elif (\n",
    "        (user_choice == 0 and computer_choice == 2)\n",
    "        or (user_choice == 5 and computer_choice == 0)\n",
    "        or (user_choice == 2 and computer_choice == 5)\n",
    "    ):\n",
    "        return \"You win!\"\n",
    "    else:\n",
    "        return \"Computer wins!\"\n",
    "\n",
    "def play_game():\n",
    "    user_score = 0\n",
    "    computer_score = 0\n",
    "\n",
    "    for round in range(5):\n",
    "            print(f\"Round {round + 1}:\")\n",
    "            user_choice = get_user_choice()\n",
    "            computer_choice = get_computer_choice()\n",
    "\n",
    "            print(f\"You chose: {choice_mapping[user_choice]}\")\n",
    "            print(f\"Computer chose: {choice_mapping[computer_choice]}\")\n",
    "\n",
    "            result = determine_winner(user_choice, computer_choice)\n",
    "            print(result)\n",
    "\n",
    "            if result == \"You win!\":\n",
    "                user_score += 1\n",
    "            elif result == \"Computer wins!\":\n",
    "                computer_score += 1\n",
    "\n",
    "    print(\"\\nGame Over!\")\n",
    "    if user_score > computer_score:\n",
    "        print(\"You win the game!\")\n",
    "    elif computer_score > user_score:\n",
    "        print(\"Computer wins the game!\")\n",
    "    else:\n",
    "        print(\"It's a tie!\")\n",
    "\n",
    "play_game()\n",
    "\n"
   ]
  },
  {
   "cell_type": "code",
   "execution_count": null,
   "metadata": {},
   "outputs": [],
   "source": [
    "play_game()"
   ]
  },
  {
   "cell_type": "code",
   "execution_count": null,
   "metadata": {},
   "outputs": [],
   "source": []
  }
 ],
 "metadata": {
  "kernelspec": {
   "display_name": "Python 3",
   "language": "python",
   "name": "python3"
  },
  "language_info": {
   "codemirror_mode": {
    "name": "ipython",
    "version": 3
   },
   "file_extension": ".py",
   "mimetype": "text/x-python",
   "name": "python",
   "nbconvert_exporter": "python",
   "pygments_lexer": "ipython3",
   "version": "3.11.5"
  },
  "orig_nbformat": 4
 },
 "nbformat": 4,
 "nbformat_minor": 2
}
